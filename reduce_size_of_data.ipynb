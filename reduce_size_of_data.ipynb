{
 "cells": [
  {
   "cell_type": "code",
   "execution_count": 1,
   "metadata": {},
   "outputs": [],
   "source": [
    "# Dependencies\n",
    "import pandas as pd"
   ]
  },
  {
   "cell_type": "code",
   "execution_count": 2,
   "metadata": {},
   "outputs": [],
   "source": [
    "# Set the path to the files\n",
    "dividends_latest_path = 'data/stocks_latest/dividends_latest.csv'\n",
    "earnings_latest_path = 'data/stocks_latest/earnings_latest.csv'\n",
    "stock_prices_latest_path = 'data/stocks_latest/stock_prices_latest.csv'\n",
    "\n",
    "# Read the files into dataframes\n",
    "dividends_latest_df = pd.read_csv(dividends_latest_path)\n",
    "earnings_latest_df = pd.read_csv(earnings_latest_path)\n",
    "stock_prices_latest_df = pd.read_csv(stock_prices_latest_path)\n"
   ]
  },
  {
   "cell_type": "code",
   "execution_count": 3,
   "metadata": {},
   "outputs": [
    {
     "name": "stdout",
     "output_type": "stream",
     "text": [
      "<class 'pandas.core.frame.DataFrame'>\n",
      "RangeIndex: 244969 entries, 0 to 244968\n",
      "Data columns (total 3 columns):\n",
      " #   Column    Non-Null Count   Dtype  \n",
      "---  ------    --------------   -----  \n",
      " 0   symbol    244969 non-null  object \n",
      " 1   date      244969 non-null  object \n",
      " 2   dividend  244969 non-null  float64\n",
      "dtypes: float64(1), object(2)\n",
      "memory usage: 5.6+ MB\n"
     ]
    }
   ],
   "source": [
    "dividends_latest_df.info()"
   ]
  },
  {
   "cell_type": "code",
   "execution_count": 4,
   "metadata": {},
   "outputs": [
    {
     "name": "stdout",
     "output_type": "stream",
     "text": [
      "<class 'str'>\n"
     ]
    }
   ],
   "source": [
    "for stock_date in dividends_latest_df['date']:\n",
    "    print(type(stock_date))\n",
    "    break"
   ]
  },
  {
   "cell_type": "code",
   "execution_count": 5,
   "metadata": {},
   "outputs": [],
   "source": [
    "# Convert the string date into a date\n",
    "dividends_latest_df['date'] = pd.to_datetime(dividends_latest_df['date'])\n",
    "earnings_latest_df['date'] = pd.to_datetime(earnings_latest_df['date'])\n",
    "stock_prices_latest_df['date'] = pd.to_datetime(stock_prices_latest_df['date'])"
   ]
  },
  {
   "cell_type": "code",
   "execution_count": 6,
   "metadata": {},
   "outputs": [],
   "source": [
    "# Reduce the size of the files by grabbing everything that is on or after 01/01/2018\n",
    "smaller_dividends_latest_df = dividends_latest_df.loc[dividends_latest_df['date'] >= \"01/01/2018\"]\n",
    "smaller_earnings_latest_df = earnings_latest_df.loc[earnings_latest_df['date'] >= \"01/01/2018\"]\n",
    "smaller_stock_prices_latest_df = stock_prices_latest_df.loc[stock_prices_latest_df['date'] >= \"01/01/2018\"]\n",
    "\n"
   ]
  },
  {
   "cell_type": "code",
   "execution_count": 7,
   "metadata": {},
   "outputs": [],
   "source": [
    "# smaller_stock_prices_latest_df is still too large to store at github so break it up\n",
    "smaller_stock_prices_latest_2018_df = smaller_stock_prices_latest_df.loc[smaller_stock_prices_latest_df['date'] <= \"12/31/2018\"]\n",
    "remaining_df = smaller_stock_prices_latest_df.loc[smaller_stock_prices_latest_df['date'] >= \"01/01/2019\"]\n",
    "smaller_stock_prices_latest_2019_df = remaining_df.loc[remaining_df['date'] <= \"12/31/2019\"]\n",
    "smaller_stock_prices_latest_2020_df = remaining_df.loc[remaining_df['date'] >= \"01/01/2020\"]"
   ]
  },
  {
   "cell_type": "code",
   "execution_count": 8,
   "metadata": {},
   "outputs": [],
   "source": [
    "# Write the smaller DataFrames to new directory\n",
    "smaller_dividends_latest_path = 'data/stocks_latest_since_20180101/dividends_latest.csv'\n",
    "smaller_earnings_latest_path = 'data/stocks_latest_since_20180101/earnings_latest.csv'\n",
    "smaller_stock_prices_latest_2018_path = 'data/stocks_latest_since_20180101/stock_prices_latest_2018.csv'\n",
    "smaller_stock_prices_latest_2019_path = 'data/stocks_latest_since_20180101/stock_prices_latest_2019.csv'\n",
    "smaller_stock_prices_latest_2020_path = 'data/stocks_latest_since_20180101/stock_prices_latest_2020.csv'\n",
    "\n",
    "smaller_dividends_latest_df.to_csv(smaller_dividends_latest_path)\n",
    "smaller_earnings_latest_df.to_csv(smaller_earnings_latest_path)\n",
    "smaller_stock_prices_latest_2018_df.to_csv(smaller_stock_prices_latest_2018_path)\n",
    "smaller_stock_prices_latest_2019_df.to_csv(smaller_stock_prices_latest_2019_path)\n",
    "smaller_stock_prices_latest_2020_df.to_csv(smaller_stock_prices_latest_2020_path)"
   ]
  },
  {
   "cell_type": "code",
   "execution_count": null,
   "metadata": {},
   "outputs": [],
   "source": []
  }
 ],
 "metadata": {
  "kernelspec": {
   "display_name": "Python [conda env:PythonData]",
   "language": "python",
   "name": "conda-env-PythonData-py"
  },
  "language_info": {
   "codemirror_mode": {
    "name": "ipython",
    "version": 3
   },
   "file_extension": ".py",
   "mimetype": "text/x-python",
   "name": "python",
   "nbconvert_exporter": "python",
   "pygments_lexer": "ipython3",
   "version": "3.6.10"
  }
 },
 "nbformat": 4,
 "nbformat_minor": 2
}
